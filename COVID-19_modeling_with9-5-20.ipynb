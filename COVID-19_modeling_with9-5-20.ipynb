{
 "cells": [
  {
   "cell_type": "markdown",
   "metadata": {},
   "source": [
    "### 1. Pre-model Analysis<font size=\"3\">: process and visualize data; get insights of features and target</font>\n",
    "###  Problem Definition<font size=\"3\">: translate the business needs into ml problems; design metrics to measure model performance</font>\n",
    "### Feature Engineering<font size=\"3\">: create features which might improve model performance</font><br>"
   ]
  },
  {
   "cell_type": "markdown",
   "metadata": {},
   "source": [
    "### 1.1 Import dataframe and check the data structure"
   ]
  },
  {
   "cell_type": "code",
   "execution_count": 1,
   "metadata": {},
   "outputs": [],
   "source": [
    "import pandas as pd\n",
    "pd.set_option('display.max_columns', None)\n",
    "pd.set_option(\"display.max_row\", 500)\n",
    "import warnings\n",
    "warnings.filterwarnings(\"ignore\")\n",
    "import datetime\n",
    "import matplotlib.pyplot as plt\n",
    "%matplotlib inline"
   ]
  },
  {
   "cell_type": "code",
   "execution_count": 2,
   "metadata": {},
   "outputs": [],
   "source": [
    "df = pd.read_csv(\"../notebooks/Kaggle_COVID19_version6_9-5-20.csv\")"
   ]
  },
  {
   "cell_type": "markdown",
   "metadata": {},
   "source": [
    "### 1.2 There are 25 coloums and ~630k rows in the dataframe, and most of them have too many missing values.<br>"
   ]
  },
  {
   "cell_type": "code",
   "execution_count": 3,
   "metadata": {},
   "outputs": [
    {
     "data": {
      "text/plain": [
       "(628730, 25)"
      ]
     },
     "execution_count": 3,
     "metadata": {},
     "output_type": "execute_result"
    }
   ],
   "source": [
    "df.shape"
   ]
  },
  {
   "cell_type": "code",
   "execution_count": 4,
   "metadata": {},
   "outputs": [
    {
     "name": "stdout",
     "output_type": "stream",
     "text": [
      "\u001b[1mMissing value percentage:\u001b[0m\n"
     ]
    },
    {
     "data": {
      "text/plain": [
       "age                                         76.39\n",
       "age_band                                    76.33\n",
       "background_diseases                         92.87\n",
       "background_diseases_binary                  17.28\n",
       "city                                        44.20\n",
       "confirmed_date                               0.56\n",
       "country                                      0.16\n",
       "date_onset_symptoms                         79.20\n",
       "deceased_date                               99.15\n",
       "infected_by                                 99.74\n",
       "infection_place                             98.19\n",
       "region                                      22.09\n",
       "released_date                               99.22\n",
       "return_date                                 99.62\n",
       "severity_illness                            96.46\n",
       "sex                                         75.56\n",
       "smoking                                     81.43\n",
       "symptoms                                    99.74\n",
       "treatment                                   79.13\n",
       "id                                           0.00\n",
       "return_date_until_date_onset_symptoms       99.78\n",
       "date_onset_symptoms_until_confirmed_date    79.22\n",
       "confirmed_date_until_released_date          99.22\n",
       "confirmed_date_until_deceased_date          99.16\n",
       "severity_illness_infectious_person          99.95\n",
       "dtype: float64"
      ]
     },
     "execution_count": 4,
     "metadata": {},
     "output_type": "execute_result"
    }
   ],
   "source": [
    "print('\\033[1m'+'Missing value percentage:'+'\\033[0m')\n",
    "percent_missing=df.isnull().sum() * 100 / len(df)\n",
    "round(percent_missing, 2)"
   ]
  },
  {
   "cell_type": "markdown",
   "metadata": {},
   "source": [
    "### 1.3 Among the area features city, region and country, only country will be kept. Since there are too many missing values, and we guess that is due to the origin of the data. We found that mexico has the fewest missing values among all countries. So only data from mexico will be used.<br>"
   ]
  },
  {
   "cell_type": "code",
   "execution_count": 5,
   "metadata": {},
   "outputs": [],
   "source": [
    "df = df[df.country == 'mexico']"
   ]
  },
  {
   "cell_type": "code",
   "execution_count": 6,
   "metadata": {},
   "outputs": [
    {
     "data": {
      "text/plain": [
       "(119323, 25)"
      ]
     },
     "execution_count": 6,
     "metadata": {},
     "output_type": "execute_result"
    }
   ],
   "source": [
    "df.shape"
   ]
  },
  {
   "cell_type": "code",
   "execution_count": 7,
   "metadata": {},
   "outputs": [
    {
     "name": "stdout",
     "output_type": "stream",
     "text": [
      "\u001b[1mMissing value percentage for mexico:\u001b[0m\n"
     ]
    },
    {
     "data": {
      "text/plain": [
       "age                                           0.00\n",
       "age_band                                      0.00\n",
       "background_diseases                          62.61\n",
       "background_diseases_binary                   60.84\n",
       "city                                         99.55\n",
       "confirmed_date                                0.05\n",
       "country                                       0.00\n",
       "date_onset_symptoms                           0.01\n",
       "deceased_date                                96.19\n",
       "infected_by                                 100.00\n",
       "infection_place                              99.43\n",
       "region                                       98.23\n",
       "released_date                               100.00\n",
       "return_date                                  99.44\n",
       "severity_illness                             94.63\n",
       "sex                                           0.02\n",
       "smoking                                       2.18\n",
       "symptoms                                    100.00\n",
       "treatment                                     1.77\n",
       "id                                            0.00\n",
       "return_date_until_date_onset_symptoms        99.44\n",
       "date_onset_symptoms_until_confirmed_date      0.06\n",
       "confirmed_date_until_released_date          100.00\n",
       "confirmed_date_until_deceased_date           96.19\n",
       "severity_illness_infectious_person          100.00\n",
       "dtype: float64"
      ]
     },
     "execution_count": 7,
     "metadata": {},
     "output_type": "execute_result"
    }
   ],
   "source": [
    "print('\\033[1m'+'Missing value percentage for mexico:'+'\\033[0m')\n",
    "percent_missing=df.isnull().sum() * 100 / len(df)\n",
    "round(percent_missing, 2)"
   ]
  },
  {
   "cell_type": "markdown",
   "metadata": {},
   "source": [
    "### 1.4 There are only two catelogues deceased and critical for severity_illness in the mexico dataset, so the miss values might be catelogues not in these two. In the following, we will define death+critical as high_risk and the missing values as low_risk.<br>"
   ]
  },
  {
   "cell_type": "code",
   "execution_count": 8,
   "metadata": {},
   "outputs": [
    {
     "data": {
      "text/plain": [
       "NaN         112914\n",
       "deceased      3849\n",
       "critical      2560\n",
       "Name: severity_illness, dtype: int64"
      ]
     },
     "execution_count": 8,
     "metadata": {},
     "output_type": "execute_result"
    }
   ],
   "source": [
    "df.severity_illness.value_counts(dropna=False)"
   ]
  },
  {
   "cell_type": "code",
   "execution_count": 9,
   "metadata": {},
   "outputs": [
    {
     "data": {
      "text/plain": [
       "array([nan, 'deceased', 'critical'], dtype=object)"
      ]
     },
     "execution_count": 9,
     "metadata": {},
     "output_type": "execute_result"
    }
   ],
   "source": [
    "df.severity_illness.unique()"
   ]
  },
  {
   "cell_type": "code",
   "execution_count": 10,
   "metadata": {},
   "outputs": [
    {
     "data": {
      "text/plain": [
       "4545"
      ]
     },
     "execution_count": 10,
     "metadata": {},
     "output_type": "execute_result"
    }
   ],
   "source": [
    "len(df[df['deceased_date'].notnull()])"
   ]
  },
  {
   "cell_type": "code",
   "execution_count": 11,
   "metadata": {},
   "outputs": [
    {
     "data": {
      "text/plain": [
       "4545"
      ]
     },
     "execution_count": 11,
     "metadata": {},
     "output_type": "execute_result"
    }
   ],
   "source": [
    "len(df[df['deceased_date'].notnull() & (df['severity_illness'].notnull())])"
   ]
  },
  {
   "cell_type": "code",
   "execution_count": 12,
   "metadata": {},
   "outputs": [
    {
     "data": {
      "text/plain": [
       "696"
      ]
     },
     "execution_count": 12,
     "metadata": {},
     "output_type": "execute_result"
    }
   ],
   "source": [
    "len(df[df['deceased_date'].notnull() & (df['severity_illness'] != 'deceased')])"
   ]
  },
  {
   "cell_type": "code",
   "execution_count": 13,
   "metadata": {},
   "outputs": [
    {
     "data": {
      "text/plain": [
       "3849"
      ]
     },
     "execution_count": 13,
     "metadata": {},
     "output_type": "execute_result"
    }
   ],
   "source": [
    "len(df[df['deceased_date'].notnull() & (df['severity_illness'] != 'critical')])"
   ]
  },
  {
   "cell_type": "code",
   "execution_count": 14,
   "metadata": {},
   "outputs": [],
   "source": [
    "\"\"\"\n",
    "Generate transformer to generate feature high_risk - 1 ('critical' and 'deceased') and 0 (else)\n",
    "\"\"\"\n",
    "\n",
    "df['severity_illness'] = df.severity_illness.apply(lambda x: 1 if str(x)!='nan' else 0)"
   ]
  },
  {
   "cell_type": "code",
   "execution_count": 15,
   "metadata": {},
   "outputs": [],
   "source": [
    "df = df.rename(columns={'severity_illness': 'high_risk'})"
   ]
  },
  {
   "cell_type": "code",
   "execution_count": 16,
   "metadata": {},
   "outputs": [
    {
     "data": {
      "text/plain": [
       "0    112914\n",
       "1      6409\n",
       "Name: high_risk, dtype: int64"
      ]
     },
     "execution_count": 16,
     "metadata": {},
     "output_type": "execute_result"
    }
   ],
   "source": [
    "df.high_risk.value_counts(dropna=False)"
   ]
  },
  {
   "cell_type": "code",
   "execution_count": 17,
   "metadata": {},
   "outputs": [
    {
     "name": "stdout",
     "output_type": "stream",
     "text": [
      "<class 'pandas.core.frame.DataFrame'>\n",
      "Int64Index: 119323 entries, 35393 to 331327\n",
      "Data columns (total 25 columns):\n",
      "age                                         119321 non-null float64\n",
      "age_band                                    119321 non-null float64\n",
      "background_diseases                         44615 non-null object\n",
      "background_diseases_binary                  46727 non-null float64\n",
      "city                                        542 non-null object\n",
      "confirmed_date                              119263 non-null object\n",
      "country                                     119323 non-null object\n",
      "date_onset_symptoms                         119317 non-null object\n",
      "deceased_date                               4545 non-null object\n",
      "infected_by                                 0 non-null object\n",
      "infection_place                             678 non-null object\n",
      "region                                      2108 non-null object\n",
      "released_date                               0 non-null object\n",
      "return_date                                 668 non-null object\n",
      "high_risk                                   119323 non-null int64\n",
      "sex                                         119299 non-null object\n",
      "smoking                                     116726 non-null float64\n",
      "symptoms                                    0 non-null object\n",
      "treatment                                   117211 non-null object\n",
      "id                                          119323 non-null int64\n",
      "return_date_until_date_onset_symptoms       666 non-null float64\n",
      "date_onset_symptoms_until_confirmed_date    119257 non-null float64\n",
      "confirmed_date_until_released_date          0 non-null float64\n",
      "confirmed_date_until_deceased_date          4545 non-null float64\n",
      "severity_illness_infectious_person          0 non-null object\n",
      "dtypes: float64(8), int64(2), object(15)\n",
      "memory usage: 23.7+ MB\n"
     ]
    }
   ],
   "source": [
    "df.info()"
   ]
  },
  {
   "cell_type": "markdown",
   "metadata": {},
   "source": [
    "### 1.5 All colomns, except severity_illness, with >90% missing values will be dropped. The colomn treatment is not informatic, and will be dropped.<br>"
   ]
  },
  {
   "cell_type": "code",
   "execution_count": 18,
   "metadata": {},
   "outputs": [
    {
     "data": {
      "text/plain": [
       "clinic          86437\n",
       "hospitalized    30774\n",
       "NaN              2112\n",
       "Name: treatment, dtype: int64"
      ]
     },
     "execution_count": 18,
     "metadata": {},
     "output_type": "execute_result"
    }
   ],
   "source": [
    "df.treatment.value_counts(dropna=False)"
   ]
  },
  {
   "cell_type": "code",
   "execution_count": 19,
   "metadata": {},
   "outputs": [
    {
     "name": "stdout",
     "output_type": "stream",
     "text": [
      "<class 'pandas.core.frame.DataFrame'>\n",
      "RangeIndex: 119323 entries, 0 to 119322\n",
      "Data columns (total 11 columns):\n",
      "confirmed_date                119263 non-null object\n",
      "date_onset_symptoms           119317 non-null object\n",
      "high_risk                     119323 non-null int64\n",
      "age                           119321 non-null float64\n",
      "age_band                      119321 non-null float64\n",
      "sex                           119299 non-null object\n",
      "country                       119323 non-null object\n",
      "background_diseases           44615 non-null object\n",
      "background_diseases_binary    46727 non-null float64\n",
      "smoking                       116726 non-null float64\n",
      "days_apart                    119257 non-null float64\n",
      "dtypes: float64(5), int64(1), object(5)\n",
      "memory usage: 10.0+ MB\n"
     ]
    }
   ],
   "source": [
    "df = df[['confirmed_date', 'date_onset_symptoms', 'high_risk', 'age', 'age_band', 'sex', 'country', \n",
    "         'background_diseases', 'background_diseases_binary', 'smoking',  \n",
    "         'date_onset_symptoms_until_confirmed_date']].reset_index(drop=True)\n",
    "df = df.rename(columns={'date_onset_symptoms_until_confirmed_date': 'days_apart'})\n",
    "df.info()"
   ]
  },
  {
   "cell_type": "markdown",
   "metadata": {},
   "source": [
    "### 1.6 Column days_apart is confirmed_date subtracting date_onset_symptoms, so only confirmed_date will be kept. Almost all non-null background_diseases_binary records are positive, so the null values should be negative and will be fixed before split the train-test.<br>"
   ]
  },
  {
   "cell_type": "code",
   "execution_count": 20,
   "metadata": {},
   "outputs": [],
   "source": [
    "df = df.drop(['date_onset_symptoms'],axis = 1).reset_index(drop=True)\n",
    "df['background_diseases_binary']=df.background_diseases_binary.apply(\n",
    "    lambda x: 0.0 if str(x)=='nan' else x).reset_index(drop=True)"
   ]
  },
  {
   "cell_type": "code",
   "execution_count": 21,
   "metadata": {},
   "outputs": [
    {
     "name": "stdout",
     "output_type": "stream",
     "text": [
      "<class 'pandas.core.frame.DataFrame'>\n",
      "RangeIndex: 119323 entries, 0 to 119322\n",
      "Data columns (total 10 columns):\n",
      "confirmed_date                119263 non-null object\n",
      "high_risk                     119323 non-null int64\n",
      "age                           119321 non-null float64\n",
      "age_band                      119321 non-null float64\n",
      "sex                           119299 non-null object\n",
      "country                       119323 non-null object\n",
      "background_diseases           44615 non-null object\n",
      "background_diseases_binary    119323 non-null float64\n",
      "smoking                       116726 non-null float64\n",
      "days_apart                    119257 non-null float64\n",
      "dtypes: float64(5), int64(1), object(4)\n",
      "memory usage: 9.1+ MB\n"
     ]
    }
   ],
   "source": [
    "df.info()"
   ]
  },
  {
   "cell_type": "markdown",
   "metadata": {},
   "source": [
    "### 1.7 The distributions of age and age_band are similar, so only age will be kept.<br>"
   ]
  },
  {
   "cell_type": "code",
   "execution_count": 22,
   "metadata": {},
   "outputs": [
    {
     "data": {
      "image/png": "[encoded data removed]",
      "text/plain": [
       "<Figure size 864x216 with 2 Axes>"
      ]
     },
     "metadata": {
      "needs_background": "light"
     },
     "output_type": "display_data"
    }
   ],
   "source": [
    "fig, (ax1, ax2) = plt.subplots(1, 2, figsize=(12,3))\n",
    "ax1.hist(df.age)\n",
    "ax1.set_title('age distribution')\n",
    "ax2.hist(df.age_band)\n",
    "ax2.set_title('age_band distribution')\n",
    "plt.show()"
   ]
  },
  {
   "cell_type": "code",
   "execution_count": 23,
   "metadata": {},
   "outputs": [
    {
     "name": "stdout",
     "output_type": "stream",
     "text": [
      "<class 'pandas.core.frame.DataFrame'>\n",
      "RangeIndex: 119323 entries, 0 to 119322\n",
      "Data columns (total 9 columns):\n",
      "confirmed_date                119263 non-null object\n",
      "high_risk                     119323 non-null int64\n",
      "age                           119321 non-null float64\n",
      "sex                           119299 non-null object\n",
      "country                       119323 non-null object\n",
      "background_diseases           44615 non-null object\n",
      "background_diseases_binary    119323 non-null float64\n",
      "smoking                       116726 non-null float64\n",
      "days_apart                    119257 non-null float64\n",
      "dtypes: float64(4), int64(1), object(4)\n",
      "memory usage: 8.2+ MB\n"
     ]
    }
   ],
   "source": [
    "df = df.drop(['age_band'],axis = 1).reset_index(drop=True)\n",
    "df.info()"
   ]
  },
  {
   "cell_type": "code",
   "execution_count": 24,
   "metadata": {},
   "outputs": [
    {
     "data": {
      "text/plain": [
       "0"
      ]
     },
     "execution_count": 24,
     "metadata": {},
     "output_type": "execute_result"
    }
   ],
   "source": [
    "len(df[(df.background_diseases_binary==0)&(df.background_diseases.notnull())])"
   ]
  },
  {
   "cell_type": "code",
   "execution_count": 25,
   "metadata": {},
   "outputs": [
    {
     "data": {
      "text/plain": [
       "(119323, 9)"
      ]
     },
     "execution_count": 25,
     "metadata": {},
     "output_type": "execute_result"
    }
   ],
   "source": [
    "from sklearn.feature_extraction.text import CountVectorizer\n",
    "\n",
    "back_dis = df['background_diseases'].fillna('un_diseased')\n",
    "vectorizer = CountVectorizer()\n",
    "vectorizer.fit(back_dis)\n",
    "back_dis= vectorizer.transform(back_dis)\n",
    "df_back_dis= pd.DataFrame(back_dis.todense())\n",
    "df_back_dis.columns = vectorizer.get_feature_names()\n",
    "df_back_dis.head()\n",
    "\n",
    "df_back_dis.shape"
   ]
  },
  {
   "cell_type": "code",
   "execution_count": 26,
   "metadata": {},
   "outputs": [],
   "source": [
    "df = pd.concat([df.reset_index(drop=True),\n",
    "                 df_back_dis.reset_index(drop=True)], axis=1).drop(['background_diseases'],axis = 1)"
   ]
  },
  {
   "cell_type": "markdown",
   "metadata": {},
   "source": [
    "## 2. Modeling<font size=\"3\">: Model selection, feature elimination, validation, hyperparameter tuning</font><br>"
   ]
  },
  {
   "cell_type": "markdown",
   "metadata": {},
   "source": [
    "### 2.1 The data will be split into two groups randomly: one for model training and the other for model testing."
   ]
  },
  {
   "cell_type": "code",
   "execution_count": 27,
   "metadata": {},
   "outputs": [],
   "source": [
    "df = df.drop(['confirmed_date', 'country'],axis = 1).reset_index(drop=True)\n",
    "df_shuffled = df.sample(n=len(df), random_state=30)\n",
    "\n",
    "train_raw = df_shuffled.iloc[: (len(df) - len(df)//4), :].reset_index(drop=True)\n",
    "test_raw = df_shuffled.iloc[(len(df) - len(df)//4) :, :].reset_index(drop=True)"
   ]
  },
  {
   "cell_type": "markdown",
   "metadata": {},
   "source": [
    "### 2.2 Transform the missing values."
   ]
  },
  {
   "cell_type": "code",
   "execution_count": 28,
   "metadata": {},
   "outputs": [],
   "source": [
    "train_raw['age'] = train_raw.age.apply(lambda x: train_raw.age.mean() if str(x)=='nan' else x).reset_index(drop=True)\n",
    "test_raw['age'] = test_raw.age.map(lambda x: train_raw.age.mean() if str(x)=='nan' else x).reset_index(drop=True)\n",
    "\n",
    "train_raw['sex']=train_raw.sex.map({'male': 0,'female': 1}).reset_index(drop=True)\n",
    "test_raw['sex']=test_raw.sex.map({'male': 0,'female': 1}).reset_index(drop=True)\n",
    "\n",
    "train_raw['smoking']=train_raw.smoking.apply(lambda x: 0.0 if str(x)=='nan' else x).reset_index(drop=True)\n",
    "test_raw['smoking']=test_raw.smoking.apply(lambda x: 0.0 if str(x)=='nan' else x).reset_index(drop=True)\n",
    "\n",
    "train_raw['days_apart'] = train_raw.days_apart.map(lambda x: train_raw.days_apart.mean() if str(x)=='nan' else x\n",
    "                                    ).reset_index(drop=True)\n",
    "test_raw['days_apart'] = test_raw.days_apart.map(lambda x: train_raw.days_apart.mean() if str(x)=='nan' else x\n",
    "                                  ).reset_index(drop=True)"
   ]
  },
  {
   "cell_type": "code",
   "execution_count": 29,
   "metadata": {},
   "outputs": [
    {
     "name": "stdout",
     "output_type": "stream",
     "text": [
      "<class 'pandas.core.frame.DataFrame'>\n",
      "RangeIndex: 89473 entries, 0 to 89472\n",
      "Data columns (total 15 columns):\n",
      "high_risk                     89473 non-null int64\n",
      "age                           89473 non-null float64\n",
      "sex                           89473 non-null float64\n",
      "background_diseases_binary    89473 non-null float64\n",
      "smoking                       89473 non-null float64\n",
      "days_apart                    89473 non-null float64\n",
      "asthma                        89473 non-null int64\n",
      "cardiovascular                89473 non-null int64\n",
      "diabetes                      89473 non-null int64\n",
      "failure                       89473 non-null int64\n",
      "hypertension                  89473 non-null int64\n",
      "immunosuppression             89473 non-null int64\n",
      "kidney                        89473 non-null int64\n",
      "obesity                       89473 non-null int64\n",
      "un_diseased                   89473 non-null int64\n",
      "dtypes: float64(5), int64(10)\n",
      "memory usage: 10.2 MB\n"
     ]
    }
   ],
   "source": [
    "train_raw = train_raw[train_raw.sex.notnull()].reset_index(drop=True)\n",
    "train_raw.info()"
   ]
  },
  {
   "cell_type": "code",
   "execution_count": 30,
   "metadata": {},
   "outputs": [
    {
     "name": "stdout",
     "output_type": "stream",
     "text": [
      "<class 'pandas.core.frame.DataFrame'>\n",
      "RangeIndex: 29826 entries, 0 to 29825\n",
      "Data columns (total 15 columns):\n",
      "high_risk                     29826 non-null int64\n",
      "age                           29826 non-null float64\n",
      "sex                           29826 non-null float64\n",
      "background_diseases_binary    29826 non-null float64\n",
      "smoking                       29826 non-null float64\n",
      "days_apart                    29826 non-null float64\n",
      "asthma                        29826 non-null int64\n",
      "cardiovascular                29826 non-null int64\n",
      "diabetes                      29826 non-null int64\n",
      "failure                       29826 non-null int64\n",
      "hypertension                  29826 non-null int64\n",
      "immunosuppression             29826 non-null int64\n",
      "kidney                        29826 non-null int64\n",
      "obesity                       29826 non-null int64\n",
      "un_diseased                   29826 non-null int64\n",
      "dtypes: float64(5), int64(10)\n",
      "memory usage: 3.4 MB\n"
     ]
    }
   ],
   "source": [
    "test_raw = test_raw[test_raw.sex.notnull()].reset_index(drop=True)\n",
    "test_raw.info()"
   ]
  },
  {
   "cell_type": "markdown",
   "metadata": {},
   "source": [
    "### 2.3 Define target and features."
   ]
  },
  {
   "cell_type": "code",
   "execution_count": 31,
   "metadata": {},
   "outputs": [],
   "source": [
    "features = list(train_raw.columns)\n",
    "target = 'high_risk'\n",
    "features.remove(target)\n",
    "\n",
    "X_train = train_raw[features]\n",
    "y_train = train_raw[target]\n",
    "X_test = test_raw[features]\n",
    "y_test = test_raw[target]"
   ]
  },
  {
   "cell_type": "markdown",
   "metadata": {},
   "source": [
    "### 2.4 The two classes in the target are very imbalanced, so resampling is needed."
   ]
  },
  {
   "cell_type": "code",
   "execution_count": 32,
   "metadata": {},
   "outputs": [
    {
     "data": {
      "text/plain": [
       "0    0.946364\n",
       "1    0.053636\n",
       "Name: high_risk, dtype: float64"
      ]
     },
     "execution_count": 32,
     "metadata": {},
     "output_type": "execute_result"
    }
   ],
   "source": [
    "train_raw.high_risk.value_counts(normalize=True)"
   ]
  },
  {
   "cell_type": "code",
   "execution_count": 33,
   "metadata": {},
   "outputs": [
    {
     "name": "stderr",
     "output_type": "stream",
     "text": [
      "Using TensorFlow backend.\n"
     ]
    }
   ],
   "source": [
    "import imblearn\n",
    "from imblearn.over_sampling import SMOTE\n",
    "from imblearn.under_sampling import RandomUnderSampler\n",
    "from imblearn.under_sampling import NearMiss\n",
    "import numpy as np\n",
    "\n",
    "over = SMOTE(random_state = 2, sampling_strategy=0.1, k_neighbors=4) \n",
    "X_train_res1, y_train_res1 = over.fit_sample(X_train, y_train)\n",
    "\n",
    "under = RandomUnderSampler(sampling_strategy=0.5)\n",
    "X_train_res, y_train_res = under.fit_sample(X_train_res1, y_train_res1)"
   ]
  },
  {
   "cell_type": "markdown",
   "metadata": {},
   "source": [
    "### 2.5 Establish models."
   ]
  },
  {
   "cell_type": "markdown",
   "metadata": {},
   "source": [
    "#### 2.5.1 Logistic regression classifier"
   ]
  },
  {
   "cell_type": "code",
   "execution_count": 34,
   "metadata": {},
   "outputs": [],
   "source": [
    "from sklearn.pipeline import Pipeline\n",
    "from sklearn.linear_model import LogisticRegression\n",
    "from sklearn.preprocessing import MinMaxScaler\n",
    "import numpy as np\n",
    "from sklearn.pipeline import Pipeline\n",
    "\n",
    "steps = [('rescale', MinMaxScaler()),\n",
    "         ('logr', LogisticRegression())]\n",
    "model_logr = Pipeline(steps)\n",
    "model_logr = model_logr.fit(X_train_res, y_train_res)\n",
    "\n",
    "y_train_proba_logr = model_logr.predict_proba(X_train_res)\n",
    "y_test_proba_logr = model_logr.predict_proba(X_test)"
   ]
  },
  {
   "cell_type": "markdown",
   "metadata": {},
   "source": [
    "#### 2.5.2 Naive Bayes Classifier"
   ]
  },
  {
   "cell_type": "code",
   "execution_count": 35,
   "metadata": {},
   "outputs": [],
   "source": [
    "from sklearn.naive_bayes import GaussianNB\n",
    "\n",
    "steps = [('rescale', MinMaxScaler()),\n",
    "         ('nb', GaussianNB())]\n",
    "model_nb= Pipeline(steps)\n",
    "model_nb.fit(X_train_res, y_train_res)\n",
    "\n",
    "y_train_proba_nb = model_nb.predict_proba(X_train_res)\n",
    "y_test_proba_nb = model_nb.predict_proba(X_test)"
   ]
  },
  {
   "cell_type": "markdown",
   "metadata": {},
   "source": [
    "#### 2.5.3 support-vector machines Classifier - this algorithm works very slow for this case"
   ]
  },
  {
   "cell_type": "code",
   "execution_count": 36,
   "metadata": {},
   "outputs": [],
   "source": [
    "from sklearn.svm import SVC\n",
    "\n",
    "steps = [('rescale', MinMaxScaler()),\n",
    "         ('svm', SVC(probability=True, random_state=30))]\n",
    "model_svm= Pipeline(steps)\n",
    "model_svm.fit(X_train_res, y_train_res)\n",
    "\n",
    "y_train_proba_svm = model_svm.predict_proba(X_train_res)\n",
    "y_test_proba_svm = model_svm.predict_proba(X_test)"
   ]
  },
  {
   "cell_type": "markdown",
   "metadata": {},
   "source": [
    "#### 2.5.4 Nearest Neighbor Classifier"
   ]
  },
  {
   "cell_type": "code",
   "execution_count": 37,
   "metadata": {},
   "outputs": [],
   "source": [
    "from sklearn.neighbors import KNeighborsClassifier\n",
    "\n",
    "steps = [('rescale', MinMaxScaler()),\n",
    "         ('knc', KNeighborsClassifier())]\n",
    "model_knc= Pipeline(steps)\n",
    "model_knc.fit(X_train_res, y_train_res)\n",
    "\n",
    "y_train_proba_knc = model_knc.predict_proba(X_train_res)\n",
    "y_test_proba_knc = model_knc.predict_proba(X_test)"
   ]
  },
  {
   "cell_type": "markdown",
   "metadata": {},
   "source": [
    "#### 2.5.5 Decision Tree Classifier"
   ]
  },
  {
   "cell_type": "code",
   "execution_count": 38,
   "metadata": {},
   "outputs": [],
   "source": [
    "from sklearn.tree import DecisionTreeClassifier\n",
    "\n",
    "steps = [('rescale', MinMaxScaler()),\n",
    "         ('dt', DecisionTreeClassifier(random_state=30))]\n",
    "model_dt = Pipeline(steps)\n",
    "model_dt.fit(X_train_res, y_train_res)\n",
    "\n",
    "y_train_proba_dt = model_dt.predict_proba(X_train_res)\n",
    "y_test_proba_dt = model_dt.predict_proba(X_test)"
   ]
  },
  {
   "cell_type": "markdown",
   "metadata": {},
   "source": [
    "#### 2.5.6 Random Forest Classifier"
   ]
  },
  {
   "cell_type": "code",
   "execution_count": 39,
   "metadata": {},
   "outputs": [],
   "source": [
    "from sklearn.ensemble import RandomForestClassifier\n",
    "\n",
    "steps = [('rescale', MinMaxScaler()),\n",
    "         ('rf', RandomForestClassifier(random_state=30))]\n",
    "model_rf = Pipeline(steps)\n",
    "model_rf.fit(X_train_res, y_train_res)\n",
    "\n",
    "y_train_proba_rf = model_rf.predict_proba(X_train_res)\n",
    "y_test_proba_rf = model_rf.predict_proba(X_test)"
   ]
  },
  {
   "cell_type": "markdown",
   "metadata": {},
   "source": [
    "#### 2.5.7 Gradient Boosting Classifier"
   ]
  },
  {
   "cell_type": "code",
   "execution_count": 40,
   "metadata": {},
   "outputs": [],
   "source": [
    "from sklearn.ensemble import GradientBoostingClassifier\n",
    "\n",
    "steps = [('rescale', MinMaxScaler()),\n",
    "         ('gb', GradientBoostingClassifier(random_state=30))]\n",
    "model_gb = Pipeline(steps)\n",
    "model_gb.fit(X_train_res, y_train_res)\n",
    "\n",
    "y_train_proba_gb = model_gb.predict_proba(X_train_res)\n",
    "y_test_proba_gb = model_gb.predict_proba(X_test)"
   ]
  },
  {
   "cell_type": "markdown",
   "metadata": {},
   "source": [
    "#### 2.5.8 XGBoost Classifier"
   ]
  },
  {
   "cell_type": "code",
   "execution_count": 41,
   "metadata": {},
   "outputs": [],
   "source": [
    "import xgboost as xgb\n",
    "from xgboost import XGBClassifier\n",
    "\n",
    "steps = [('rescale', MinMaxScaler()),\n",
    "         ('xgb', XGBClassifier(random_state=30))]\n",
    "model_xgb = Pipeline(steps)\n",
    "model_xgb.fit(X_train_res, y_train_res)\n",
    "\n",
    "y_train_proba_xgb = model_xgb.predict_proba(X_train_res)\n",
    "y_test_proba_xgb = model_xgb.predict_proba(X_test)"
   ]
  },
  {
   "cell_type": "markdown",
   "metadata": {},
   "source": [
    "### 2.6 Compare ROC-AUC scores from different models."
   ]
  },
  {
   "cell_type": "code",
   "execution_count": 42,
   "metadata": {},
   "outputs": [
    {
     "name": "stdout",
     "output_type": "stream",
     "text": [
      "model_logr roc_auc| Train: 0.7800| Test:  0.7766\n",
      "model_nb roc_auc| Train: 0.7383| Test:  0.7477\n",
      "model_svm roc_auc| Train: 0.8052| Test:  0.7755\n",
      "model_knc roc_auc| Train: 0.8878| Test:  0.7284\n",
      "model_dt roc_auc| Train: 0.9782| Test:  0.6081\n",
      "model_rf roc_auc| Train: 0.9707| Test:  0.7385\n",
      "model_gb roc_auc| Train: 0.8515| Test:  0.8063\n",
      "model_xgb roc_auc| Train: 0.8497| Test:  0.8066\n"
     ]
    }
   ],
   "source": [
    "from sklearn.metrics import roc_auc_score\n",
    "\n",
    "print(f\"model_logr roc_auc| Train: {roc_auc_score(y_train_res, y_train_proba_logr[:, 1]):.4f}\"\n",
    "      f\"| Test:  {roc_auc_score(y_test, y_test_proba_logr[:, 1]):.4f}\")\n",
    "\n",
    "print(f\"model_nb roc_auc| Train: {roc_auc_score(y_train_res, y_train_proba_nb[:, 1]):.4f}\"\n",
    "      f\"| Test:  {roc_auc_score(y_test, y_test_proba_nb[:, 1]):.4f}\")\n",
    "\n",
    "print(f\"model_svm roc_auc| Train: {roc_auc_score(y_train_res, y_train_proba_svm[:, 1]):.4f}\"\n",
    "      f\"| Test:  {roc_auc_score(y_test, y_test_proba_svm[:, 1]):.4f}\")\n",
    "\n",
    "print(f\"model_knc roc_auc| Train: {roc_auc_score(y_train_res, y_train_proba_knc[:, 1]):.4f}\"\n",
    "      f\"| Test:  {roc_auc_score(y_test, y_test_proba_knc[:, 1]):.4f}\")\n",
    "\n",
    "print(f\"model_dt roc_auc| Train: {roc_auc_score(y_train_res, y_train_proba_dt[:, 1]):.4f}\"\n",
    "      f\"| Test:  {roc_auc_score(y_test, y_test_proba_dt[:, 1]):.4f}\")\n",
    "\n",
    "print(f\"model_rf roc_auc| Train: {roc_auc_score(y_train_res, y_train_proba_rf[:, 1]):.4f}\"\n",
    "      f\"| Test:  {roc_auc_score(y_test, y_test_proba_rf[:, 1]):.4f}\")\n",
    "\n",
    "print(f\"model_gb roc_auc| Train: {roc_auc_score(y_train_res, y_train_proba_gb[:, 1]):.4f}\"\n",
    "      f\"| Test:  {roc_auc_score(y_test, y_test_proba_gb[:, 1]):.4f}\")\n",
    "\n",
    "print(f\"model_xgb roc_auc| Train: {roc_auc_score(y_train_res, y_train_proba_xgb[:, 1]):.4f}\"\n",
    "      f\"| Test:  {roc_auc_score(y_test, y_test_proba_xgb[:, 1]):.4f}\")"
   ]
  },
  {
   "cell_type": "markdown",
   "metadata": {},
   "source": [
    "### 2.7 XGBoost model seems to be the best, try to tune the hyperparameters for it."
   ]
  },
  {
   "cell_type": "markdown",
   "metadata": {},
   "source": [
    "#### 2.7.1 Tune the hyperparameters"
   ]
  },
  {
   "cell_type": "code",
   "execution_count": 43,
   "metadata": {},
   "outputs": [
    {
     "data": {
      "text/plain": [
       "RandomizedSearchCV(estimator=XGBClassifier(random_state=30),\n",
       "                   param_distributions={'colsample_bytree': [0.6, 0.8, 1.0],\n",
       "                                        'gamma': [0.5, 1, 1.5, 2, 5],\n",
       "                                        'max_depth': [3, 4, 5],\n",
       "                                        'min_child_weight': [1, 5, 10],\n",
       "                                        'n_estimators': [10, 50, 100, 200],\n",
       "                                        'reg_lambda': [0.01, 1, 100],\n",
       "                                        'subsample': [0.6, 0.8, 1.0]},\n",
       "                   scoring='roc_auc')"
      ]
     },
     "execution_count": 43,
     "metadata": {},
     "output_type": "execute_result"
    }
   ],
   "source": [
    "from sklearn.model_selection import RandomizedSearchCV, GridSearchCV\n",
    "from sklearn.metrics import roc_auc_score\n",
    "from sklearn.model_selection import StratifiedKFold\n",
    "from xgboost import XGBClassifier\n",
    "\n",
    "params = {\n",
    "        'min_child_weight': [1, 5, 10],\n",
    "        'gamma': [0.5, 1, 1.5, 2, 5],\n",
    "        'subsample': [0.6, 0.8, 1.0],\n",
    "        'colsample_bytree': [0.6, 0.8, 1.0],\n",
    "        'n_estimators': [10, 50, 100, 200],\n",
    "        'reg_lambda': [0.01, 1, 100],\n",
    "        'max_depth': [3, 4, 5]\n",
    "        }\n",
    "\n",
    "random_search = RandomizedSearchCV(model_xgb[1], param_distributions=params, scoring='roc_auc')\n",
    "\n",
    "random_search.fit(X_train_res, y_train_res)"
   ]
  },
  {
   "cell_type": "code",
   "execution_count": 44,
   "metadata": {},
   "outputs": [],
   "source": [
    "from IPython.display import Markdown, display\n",
    "def printmd(string):\n",
    "    display(Markdown(string))"
   ]
  },
  {
   "cell_type": "code",
   "execution_count": 45,
   "metadata": {},
   "outputs": [
    {
     "data": {
      "text/markdown": [
       "**Best hyperparameters:**"
      ],
      "text/plain": [
       "<IPython.core.display.Markdown object>"
      ]
     },
     "metadata": {},
     "output_type": "display_data"
    },
    {
     "name": "stdout",
     "output_type": "stream",
     "text": [
      "{'subsample': 0.8, 'reg_lambda': 0.01, 'n_estimators': 200, 'min_child_weight': 5, 'max_depth': 5, 'gamma': 1.5, 'colsample_bytree': 0.6}\n"
     ]
    }
   ],
   "source": [
    "printmd('**Best hyperparameters:**')\n",
    "print(random_search.best_params_)"
   ]
  },
  {
   "cell_type": "code",
   "execution_count": 46,
   "metadata": {},
   "outputs": [],
   "source": [
    "import xgboost as xgb\n",
    "from xgboost import XGBClassifier\n",
    "\n",
    "steps = [('rescale', MinMaxScaler()),\n",
    "         ('xgb', XGBClassifier(subsample=0.6, reg_lambda=0.01, n_estimators=100, min_child_weight=1,\n",
    "                          max_depth=5, gamma=0.5, colsample_bytree=0.6, random_state=30))]\n",
    "model_xgb = Pipeline(steps)\n",
    "model_xgb.fit(X_train_res, y_train_res)\n",
    "\n",
    "y_train_proba_xgb = model_xgb.predict_proba(X_train_res)\n",
    "y_test_proba_xgb = model_xgb.predict_proba(X_test)"
   ]
  },
  {
   "cell_type": "code",
   "execution_count": 47,
   "metadata": {},
   "outputs": [
    {
     "name": "stdout",
     "output_type": "stream",
     "text": [
      "model_xgb roc_auc| Train: 0.8678| Test:  0.8061\n"
     ]
    }
   ],
   "source": [
    "print(f\"model_xgb roc_auc| Train: {roc_auc_score(y_train_res, y_train_proba_xgb[:, 1]):.4f}\"\n",
    "      f\"| Test:  {roc_auc_score(y_test, y_test_proba_xgb[:, 1]):.4f}\")"
   ]
  },
  {
   "cell_type": "code",
   "execution_count": 48,
   "metadata": {},
   "outputs": [
    {
     "data": {
      "text/markdown": [
       "**model_xgb Train Classification Report:**"
      ],
      "text/plain": [
       "<IPython.core.display.Markdown object>"
      ]
     },
     "metadata": {},
     "output_type": "display_data"
    },
    {
     "name": "stdout",
     "output_type": "stream",
     "text": [
      "              precision    recall  f1-score   support\n",
      "\n",
      "           0       0.83      0.88      0.85     16934\n",
      "           1       0.72      0.63      0.67      8467\n",
      "\n",
      "    accuracy                           0.80     25401\n",
      "   macro avg       0.77      0.75      0.76     25401\n",
      "weighted avg       0.79      0.80      0.79     25401\n",
      "\n"
     ]
    },
    {
     "data": {
      "text/markdown": [
       "**model_xgb Test Classification Report:**"
      ],
      "text/plain": [
       "<IPython.core.display.Markdown object>"
      ]
     },
     "metadata": {},
     "output_type": "display_data"
    },
    {
     "name": "stdout",
     "output_type": "stream",
     "text": [
      "              precision    recall  f1-score   support\n",
      "\n",
      "           0       0.97      0.87      0.92     28216\n",
      "           1       0.18      0.51      0.27      1610\n",
      "\n",
      "    accuracy                           0.85     29826\n",
      "   macro avg       0.57      0.69      0.59     29826\n",
      "weighted avg       0.93      0.85      0.88     29826\n",
      "\n"
     ]
    }
   ],
   "source": [
    "from sklearn.metrics import classification_report\n",
    "\n",
    "y_train_pred_xgb = model_xgb.predict(X_train_res)\n",
    "y_test_pred_xgb = model_xgb.predict(X_test)\n",
    "\n",
    "printmd('**model_xgb Train Classification Report:**')\n",
    "print(classification_report(y_train_res, y_train_pred_xgb))\n",
    "\n",
    "printmd('**model_xgb Test Classification Report:**')\n",
    "print(classification_report(y_test, y_test_pred_xgb))"
   ]
  },
  {
   "cell_type": "markdown",
   "metadata": {},
   "source": [
    "#### 2.7.2 Find the best threshold to improve the scores"
   ]
  },
  {
   "cell_type": "code",
   "execution_count": 49,
   "metadata": {},
   "outputs": [
    {
     "data": {
      "text/plain": [
       "<function matplotlib.pyplot.show(*args, **kw)>"
      ]
     },
     "execution_count": 49,
     "metadata": {},
     "output_type": "execute_result"
    },
    {
     "data": {
      "image/png": "[encoded data removed]",
      "text/plain": [
       "<Figure size 432x288 with 1 Axes>"
      ]
     },
     "metadata": {
      "needs_background": "light"
     },
     "output_type": "display_data"
    }
   ],
   "source": [
    "from sklearn.metrics import precision_score, recall_score, f1_score\n",
    "import numpy as np\n",
    "\n",
    "y_train_pred_xgb = model_xgb.predict(X_train_res)\n",
    "y_test_pred_xgb = model_xgb.predict(X_test)\n",
    "\n",
    "precision = []\n",
    "recall = []\n",
    "f1 = []\n",
    "thresholds = np.arange(0, 1.1, 0.1)\n",
    "for threshold in thresholds:\n",
    "    df_y_test_pred_xgb = pd.DataFrame(y_test_proba_xgb).applymap(lambda x: 1 if x>threshold else 0)\n",
    "    y_test_pred_xgb = df_y_test_pred_xgb[1]\n",
    "    precision.append(precision_score(y_test, y_test_pred_xgb))\n",
    "    recall.append(recall_score(y_test, y_test_pred_xgb))\n",
    "    f1.append(f1_score(y_test, y_test_pred_xgb))\n",
    "\n",
    "plt.plot(thresholds, precision, label=\"Precision_score\")\n",
    "plt.plot(thresholds, recall, label=\"Recall_score\")\n",
    "plt.plot(thresholds, f1, label=\"f1_score\")\n",
    "plt.ylabel(\"scores\")\n",
    "plt.xlabel(\"Threshold\")\n",
    "plt.legend(loc=\"lower middle\")\n",
    "plt.xticks(thresholds)\n",
    "plt.show"
   ]
  },
  {
   "cell_type": "code",
   "execution_count": 50,
   "metadata": {},
   "outputs": [
    {
     "data": {
      "text/plain": [
       "[<matplotlib.lines.Line2D at 0x14c5dd9d0>]"
      ]
     },
     "execution_count": 50,
     "metadata": {},
     "output_type": "execute_result"
    },
    {
     "data": {
      "image/png": "[encoded data removed]",
      "text/plain": [
       "<Figure size 432x288 with 1 Axes>"
      ]
     },
     "metadata": {
      "needs_background": "light"
     },
     "output_type": "display_data"
    }
   ],
   "source": [
    "from sklearn.metrics import roc_curve\n",
    "\n",
    "fpr, tpr, thresholds = roc_curve(y_test, y_test_proba_xgb[:,1])\n",
    "plt.xticks(np.arange(0, 1.1, 0.1))\n",
    "plt.grid()\n",
    "plt.plot(fpr, tpr)"
   ]
  },
  {
   "cell_type": "markdown",
   "metadata": {},
   "source": [
    "**Pick 0.35 as the best threshold.**"
   ]
  },
  {
   "cell_type": "code",
   "execution_count": 51,
   "metadata": {},
   "outputs": [
    {
     "data": {
      "text/markdown": [
       "**model_xgb Train Classification Report - optimized:**"
      ],
      "text/plain": [
       "<IPython.core.display.Markdown object>"
      ]
     },
     "metadata": {},
     "output_type": "display_data"
    },
    {
     "name": "stdout",
     "output_type": "stream",
     "text": [
      "              precision    recall  f1-score   support\n",
      "\n",
      "           0       0.83      0.88      0.85     16934\n",
      "           1       0.72      0.63      0.67      8467\n",
      "\n",
      "    accuracy                           0.80     25401\n",
      "   macro avg       0.77      0.75      0.76     25401\n",
      "weighted avg       0.79      0.80      0.79     25401\n",
      "\n"
     ]
    },
    {
     "data": {
      "text/markdown": [
       "**model_xgb Test Classification Report - optimized:**"
      ],
      "text/plain": [
       "<IPython.core.display.Markdown object>"
      ]
     },
     "metadata": {},
     "output_type": "display_data"
    },
    {
     "name": "stdout",
     "output_type": "stream",
     "text": [
      "              precision    recall  f1-score   support\n",
      "\n",
      "           0       0.98      0.70      0.82     28216\n",
      "           1       0.13      0.79      0.23      1610\n",
      "\n",
      "    accuracy                           0.71     29826\n",
      "   macro avg       0.56      0.75      0.52     29826\n",
      "weighted avg       0.94      0.71      0.79     29826\n",
      "\n"
     ]
    }
   ],
   "source": [
    "from sklearn.metrics import classification_report\n",
    "\n",
    "y_train_pred_xgb = model_xgb.predict(X_train_res)\n",
    "df_y_test_pred_xgb = pd.DataFrame(y_test_proba_xgb).applymap(lambda x: 1 if x>0.3 else 0)\n",
    "y_test_pred_xgb = df_y_test_pred_xgb[1]\n",
    "\n",
    "printmd('**model_xgb Train Classification Report - optimized:**')\n",
    "print(classification_report(y_train_res, y_train_pred_xgb))\n",
    "\n",
    "printmd('**model_xgb Test Classification Report - optimized:**')\n",
    "print(classification_report(y_test, y_test_pred_xgb))"
   ]
  },
  {
   "cell_type": "code",
   "execution_count": 52,
   "metadata": {},
   "outputs": [
    {
     "data": {
      "text/plain": [
       "array([[19841,  8375],\n",
       "       [  335,  1275]])"
      ]
     },
     "execution_count": 52,
     "metadata": {},
     "output_type": "execute_result"
    }
   ],
   "source": [
    "from sklearn.metrics import confusion_matrix\n",
    "cm = confusion_matrix(y_test, y_test_pred_xgb)\n",
    "cm"
   ]
  },
  {
   "cell_type": "markdown",
   "metadata": {},
   "source": [
    "### 2.8 Feature importance"
   ]
  },
  {
   "cell_type": "code",
   "execution_count": 53,
   "metadata": {},
   "outputs": [
    {
     "data": {
      "text/plain": [
       "array([0.11189154, 0.15904585, 0.25612333, 0.07564603, 0.04590596,\n",
       "       0.05743502, 0.01662912, 0.07536317, 0.02072078, 0.04541844,\n",
       "       0.0188499 , 0.02229021, 0.02830702, 0.06637366], dtype=float32)"
      ]
     },
     "execution_count": 53,
     "metadata": {},
     "output_type": "execute_result"
    }
   ],
   "source": [
    "importances_xgb = model_xgb[1].feature_importances_\n",
    "importances_xgb"
   ]
  },
  {
   "cell_type": "code",
   "execution_count": 54,
   "metadata": {},
   "outputs": [
    {
     "data": {
      "text/plain": [
       "[('background_diseases_binary', 0.25612333),\n",
       " ('sex', 0.15904585),\n",
       " ('age', 0.11189154),\n",
       " ('smoking', 0.07564603),\n",
       " ('diabetes', 0.075363174),\n",
       " ('un_diseased', 0.06637366),\n",
       " ('asthma', 0.05743502),\n",
       " ('days_apart', 0.045905963),\n",
       " ('hypertension', 0.04541844),\n",
       " ('obesity', 0.028307015),\n",
       " ('kidney', 0.022290213),\n",
       " ('failure', 0.020720784),\n",
       " ('immunosuppression', 0.018849898),\n",
       " ('cardiovascular', 0.016629118)]"
      ]
     },
     "execution_count": 54,
     "metadata": {},
     "output_type": "execute_result"
    },
    {
     "data": {
      "image/png": "[encoded data removed]",
      "text/plain": [
       "<Figure size 432x288 with 1 Axes>"
      ]
     },
     "metadata": {
      "needs_background": "light"
     },
     "output_type": "display_data"
    }
   ],
   "source": [
    "res = sorted(zip(features, importances_xgb), key=lambda x: x[1])\n",
    "d = dict(res)\n",
    "\n",
    "plt.barh(range(len(importances_xgb)), d.values())\n",
    "plt.yticks(range(len(importances_xgb)), d.keys())\n",
    "res[::-1]"
   ]
  },
  {
   "cell_type": "code",
   "execution_count": 55,
   "metadata": {},
   "outputs": [],
   "source": [
    "high_risk_train = train_raw[y_train == 1]\n",
    "low_risk_train = train_raw[y_train == 0]\n",
    "\n",
    "high_risk_test = test_raw[y_test == 1]\n",
    "low_risk_test = test_raw[y_test == 0]"
   ]
  },
  {
   "cell_type": "code",
   "execution_count": 56,
   "metadata": {},
   "outputs": [
    {
     "data": {
      "text/markdown": [
       "**Distribution on background_diseases_binary: 0=No, 1=Yes**"
      ],
      "text/plain": [
       "<IPython.core.display.Markdown object>"
      ]
     },
     "metadata": {},
     "output_type": "display_data"
    },
    {
     "data": {
      "image/png": "[encoded data removed]",
      "text/plain": [
       "<Figure size 864x216 with 2 Axes>"
      ]
     },
     "metadata": {
      "needs_background": "light"
     },
     "output_type": "display_data"
    }
   ],
   "source": [
    "printmd('**Distribution on background_diseases_binary: 0=No, 1=Yes**')\n",
    "fig, (ax1, ax2) = plt.subplots(1, 2, figsize=(12,3))\n",
    "ax1.hist(high_risk_train['background_diseases_binary'], alpha=0.5, density=True, label='high risk')\n",
    "ax1.hist(low_risk_train['background_diseases_binary'], alpha=0.5, density=True, label='low risk')\n",
    "ax1.set_title('train_raw')\n",
    "ax2.hist(high_risk_test['background_diseases_binary'], alpha=0.5, density=True, label='high risk')\n",
    "ax2.hist(low_risk_test['background_diseases_binary'], alpha=0.5, density=True, label='low risk')\n",
    "ax2.set_title('test_raw')\n",
    "ax1.legend(loc=\"upper mid\")\n",
    "ax2.legend(loc=\"upper mid\")\n",
    "ax2.set_xlabel('background_diseases_binary')\n",
    "ax1.set_xlabel('background_diseases_binary')\n",
    "ax1.set_xticks(high_risk_train['background_diseases_binary'].values)\n",
    "ax2.set_xticks(high_risk_train['background_diseases_binary'].values)\n",
    "plt.show()"
   ]
  },
  {
   "cell_type": "code",
   "execution_count": 57,
   "metadata": {},
   "outputs": [
    {
     "data": {
      "text/markdown": [
       "**Distribution on sex: 0=male, 1=female**"
      ],
      "text/plain": [
       "<IPython.core.display.Markdown object>"
      ]
     },
     "metadata": {},
     "output_type": "display_data"
    },
    {
     "data": {
      "image/png": "[encoded data removed]",
      "text/plain": [
       "<Figure size 864x216 with 2 Axes>"
      ]
     },
     "metadata": {
      "needs_background": "light"
     },
     "output_type": "display_data"
    }
   ],
   "source": [
    "printmd('**Distribution on sex: 0=male, 1=female**')\n",
    "fig, (ax1, ax2) = plt.subplots(1, 2, figsize=(12,3))\n",
    "ax1.hist(high_risk_train['sex'], alpha=0.5, density=True, label='high risk')\n",
    "ax1.hist(low_risk_train['sex'], alpha=0.5, density=True, label='low risk')\n",
    "ax1.set_title('train_raw')\n",
    "ax2.hist(high_risk_test['sex'], alpha=0.5, density=True, label='high risk')\n",
    "ax2.hist(low_risk_test['sex'], alpha=0.5, density=True, label='low risk')\n",
    "ax2.set_title('test_raw')\n",
    "ax1.legend(loc=\"upper mid\")\n",
    "ax2.legend(loc=\"upper mid\")\n",
    "ax2.set_xlabel('sex')\n",
    "ax1.set_xlabel('sex')\n",
    "ax1.set_xticks(high_risk_train['sex'].values)\n",
    "ax2.set_xticks(high_risk_train['sex'].values)\n",
    "plt.show()"
   ]
  },
  {
   "cell_type": "code",
   "execution_count": 58,
   "metadata": {},
   "outputs": [
    {
     "data": {
      "text/markdown": [
       "**Distribution on age**"
      ],
      "text/plain": [
       "<IPython.core.display.Markdown object>"
      ]
     },
     "metadata": {},
     "output_type": "display_data"
    },
    {
     "data": {
      "image/png": "[encoded data removed]",
      "text/plain": [
       "<Figure size 864x216 with 2 Axes>"
      ]
     },
     "metadata": {
      "needs_background": "light"
     },
     "output_type": "display_data"
    }
   ],
   "source": [
    "printmd('**Distribution on age**')\n",
    "fig, (ax1, ax2) = plt.subplots(1, 2, figsize=(12,3))\n",
    "ax1.hist(high_risk_train['age'], alpha=0.5, density=True, label='high risk')\n",
    "ax1.hist(low_risk_train['age'], alpha=0.5, density=True, label='low risk')\n",
    "ax1.set_title('train_raw')\n",
    "ax2.hist(high_risk_test['age'], alpha=0.5, density=True, label='high risk')\n",
    "ax2.hist(low_risk_test['age'], alpha=0.5, density=True, label='low risk')\n",
    "ax2.set_title('test_raw')\n",
    "ax1.legend(loc=\"upper mid\")\n",
    "ax2.legend(loc=\"upper mid\")\n",
    "ax2.set_xlabel('age')\n",
    "ax1.set_xlabel('age')\n",
    "plt.show()"
   ]
  },
  {
   "cell_type": "code",
   "execution_count": 59,
   "metadata": {},
   "outputs": [
    {
     "data": {
      "text/markdown": [
       "**Distribution on smoking: 0=No, 1=Yes**"
      ],
      "text/plain": [
       "<IPython.core.display.Markdown object>"
      ]
     },
     "metadata": {},
     "output_type": "display_data"
    },
    {
     "data": {
      "image/png": "[encoded data removed]",
      "text/plain": [
       "<Figure size 864x216 with 2 Axes>"
      ]
     },
     "metadata": {
      "needs_background": "light"
     },
     "output_type": "display_data"
    }
   ],
   "source": [
    "printmd('**Distribution on smoking: 0=No, 1=Yes**')\n",
    "fig, (ax1, ax2) = plt.subplots(1, 2, figsize=(12,3))\n",
    "ax1.hist(high_risk_train['smoking'], alpha=0.5, density=True, label='high risk')\n",
    "ax1.hist(low_risk_train['smoking'], alpha=0.5, density=True, label='low risk')\n",
    "ax1.set_title('train_raw')\n",
    "ax2.hist(high_risk_test['smoking'], alpha=0.5, density=True, label='high risk')\n",
    "ax2.hist(low_risk_test['smoking'], alpha=0.5, density=True, label='low risk')\n",
    "ax2.set_title('test_raw')\n",
    "ax1.legend(loc=\"upper mid\")\n",
    "ax2.legend(loc=\"upper mid\")\n",
    "ax2.set_xlabel('smoking')\n",
    "ax1.set_xlabel('smoking')\n",
    "ax1.set_xticks(high_risk_train['smoking'].values)\n",
    "ax2.set_xticks(high_risk_train['smoking'].values)\n",
    "plt.show()"
   ]
  },
  {
   "cell_type": "code",
   "execution_count": 60,
   "metadata": {},
   "outputs": [],
   "source": [
    "female_train = train_raw[X_train['sex'] == 1]\n",
    "male_train = train_raw[X_train['sex'] == 0]\n",
    "\n",
    "female_test = test_raw[X_test['sex'] == 1]\n",
    "male_test = test_raw[X_test['sex'] == 0]"
   ]
  },
  {
   "cell_type": "code",
   "execution_count": 61,
   "metadata": {},
   "outputs": [
    {
     "data": {
      "text/markdown": [
       "**Gender distribution on age**"
      ],
      "text/plain": [
       "<IPython.core.display.Markdown object>"
      ]
     },
     "metadata": {},
     "output_type": "display_data"
    },
    {
     "data": {
      "image/png": "[encoded data removed]",
      "text/plain": [
       "<Figure size 864x216 with 2 Axes>"
      ]
     },
     "metadata": {
      "needs_background": "light"
     },
     "output_type": "display_data"
    }
   ],
   "source": [
    "printmd('**Gender distribution on age**')\n",
    "fig, (ax1, ax2) = plt.subplots(1, 2, figsize=(12,3))\n",
    "ax1.hist(female_train['age'], alpha=0.5, density=True, label='female')\n",
    "ax1.hist(male_train['age'], alpha=0.5, density=True, label='male')\n",
    "ax1.set_title('train_raw')\n",
    "ax2.hist(female_test['age'], alpha=0.5, density=True, label='female')\n",
    "ax2.hist(male_test['age'], alpha=0.5, density=True, label='male')\n",
    "ax2.set_title('test_raw')\n",
    "ax1.legend(loc=\"upper mid\")\n",
    "ax2.legend(loc=\"upper mid\")\n",
    "ax2.set_xlabel('age')\n",
    "ax1.set_xlabel('age')\n",
    "plt.show()"
   ]
  },
  {
   "cell_type": "code",
   "execution_count": null,
   "metadata": {},
   "outputs": [],
   "source": []
  }
 ],
 "metadata": {
  "kernelspec": {
   "display_name": "Python 3",
   "language": "python",
   "name": "python3"
  },
  "language_info": {
   "codemirror_mode": {
    "name": "ipython",
    "version": 3
   },
   "file_extension": ".py",
   "mimetype": "text/x-python",
   "name": "python",
   "nbconvert_exporter": "python",
   "pygments_lexer": "ipython3",
   "version": "3.7.4"
  }
 },
 "nbformat": 4,
 "nbformat_minor": 2
}
